{
 "cells": [
  {
   "cell_type": "markdown",
   "metadata": {},
   "source": [
    "This exercise will require you to pull some data from https://data.nasdaq.com/ (formerly Quandl API)."
   ]
  },
  {
   "cell_type": "markdown",
   "metadata": {},
   "source": [
    "As a first step, you will need to register a free account on the https://data.nasdaq.com/ website."
   ]
  },
  {
   "cell_type": "markdown",
   "metadata": {},
   "source": [
    "After you register, you will be provided with a unique API key, that you should store:\n",
    "\n",
    "*Note*: Use a `.env` file and put your key in there and `python-dotenv` to access it in this notebook. \n",
    "\n",
    "The code below uses a key that was used when generating this project but has since been deleted. Never submit your keys to source control. There is a `.env-example` file in this repository to illusrtate what you need. Copy that to a file called `.env` and use your own api key in that `.env` file. Make sure you also have a `.gitignore` file with a line for `.env` added to it. \n",
    "\n",
    "The standard Python gitignore is [here](https://github.com/github/gitignore/blob/master/Python.gitignore) you can just copy that. "
   ]
  },
  {
   "cell_type": "code",
   "execution_count": 1,
   "metadata": {},
   "outputs": [],
   "source": [
    "# pip install python-dotenv"
   ]
  },
  {
   "cell_type": "code",
   "execution_count": 2,
   "metadata": {},
   "outputs": [
    {
     "name": "stdout",
     "output_type": "stream",
     "text": [
      "U5cvNQx-hcz3-GLx9W6W\n"
     ]
    }
   ],
   "source": [
    "# get api key from your .env file\n",
    "import os\n",
    "from dotenv import load_dotenv  # if missing this module, simply run `pip install python-dotenv`\n",
    "\n",
    "load_dotenv()\n",
    "API_KEY = os.getenv('NASDAQ_API_KEY')\n",
    "\n",
    "print(API_KEY)"
   ]
  },
  {
   "cell_type": "markdown",
   "metadata": {},
   "source": [
    "Nasdaq Data has a large number of data sources, but, unfortunately, most of them require a Premium subscription. Still, there are also a good number of free datasets."
   ]
  },
  {
   "cell_type": "markdown",
   "metadata": {},
   "source": [
    "For this mini project, we will focus on equities data from the Frankfurt Stock Exhange (FSE), which is available for free. We'll try and analyze the stock prices of a company called Carl Zeiss Meditec, which manufactures tools for eye examinations, as well as medical lasers for laser eye surgery: https://www.zeiss.com/meditec/int/home.html. The company is listed under the stock ticker AFX_X."
   ]
  },
  {
   "cell_type": "markdown",
   "metadata": {},
   "source": [
    "You can find the detailed Nasdaq Data API instructions here: https://docs.data.nasdaq.com/docs/in-depth-usage"
   ]
  },
  {
   "cell_type": "markdown",
   "metadata": {},
   "source": [
    "While there is a dedicated Python package for connecting to the Nasdaq API, we would prefer that you use the *requests* package, which can be easily downloaded using *pip* or *conda*. You can find the documentation for the package here: http://docs.python-requests.org/en/master/ "
   ]
  },
  {
   "cell_type": "markdown",
   "metadata": {},
   "source": [
    "Finally, apart from the *requests* package, you are encouraged to not use any third party Python packages, such as *pandas*, and instead focus on what's available in the Python Standard Library (the *collections* module might come in handy: https://pymotw.com/3/collections/).\n",
    "Also, since you won't have access to DataFrames, you are encouraged to us Python's native data structures - preferably dictionaries, though some questions can also be answered using lists.\n",
    "You can read more on these data structures here: https://docs.python.org/3/tutorial/datastructures.html"
   ]
  },
  {
   "cell_type": "markdown",
   "metadata": {},
   "source": [
    "Keep in mind that the JSON responses you will be getting from the API map almost one-to-one to Python's dictionaries. Unfortunately, they can be very nested, so make sure you read up on indexing dictionaries in the documentation provided above."
   ]
  },
  {
   "cell_type": "code",
   "execution_count": 3,
   "metadata": {},
   "outputs": [],
   "source": [
    "# First, import the relevant modules\n",
    "import requests\n",
    "import statistics\n",
    "from pprint import pprint as pp"
   ]
  },
  {
   "cell_type": "markdown",
   "metadata": {},
   "source": [
    "Note: API's can change a bit with each version, for this exercise it is reccomended to use the nasdaq api at `https://data.nasdaq.com/api/v3/`. This is the same api as what used to be quandl so `https://www.quandl.com/api/v3/` should work too.\n",
    "\n",
    "Hint: We are looking for the `AFX_X` data on the `datasets/FSE/` dataset."
   ]
  },
  {
   "cell_type": "code",
   "execution_count": 4,
   "metadata": {},
   "outputs": [
    {
     "name": "stdout",
     "output_type": "stream",
     "text": [
      "https://data.nasdaq.com/api/v3/datasets/FSE/AFX_X/data.json?api_key=U5cvNQx-hcz3-GLx9W6W\n"
     ]
    }
   ],
   "source": [
    "# Now, call the Nasdaq API and pull out a small sample of the data (only one day) to get a glimpse\n",
    "# into the JSON structure that will be returned\n",
    "database_code = \"FSE\"\n",
    "dataset_code = \"AFX_X\"\n",
    "url = f\"https://data.nasdaq.com/api/v3/datasets/{database_code}/{dataset_code}/data.json?api_key={API_KEY}\"\n",
    "print(url)"
   ]
  },
  {
   "cell_type": "code",
   "execution_count": 5,
   "metadata": {},
   "outputs": [],
   "source": [
    "# Inspect the JSON structure of the object you created, and take note of how nested it is,\n",
    "# as well as the overall structure\n",
    "\n",
    "r = requests.get(url)\n",
    "# print(r.status_code)\n",
    "# print(r.headers['content-type'])\n",
    "# print(r.text)\n",
    "# print(r.json())\n",
    "# pp(r.json())"
   ]
  },
  {
   "cell_type": "markdown",
   "metadata": {},
   "source": [
    "These are your tasks for this mini project:\n",
    "\n",
    "1. Collect data from the Franfurt Stock Exchange, for the ticker AFX_X, for the whole year 2017 (keep in mind that the date format is YYYY-MM-DD).\n",
    "2. Convert the returned JSON object into a Python dictionary.\n",
    "3. Calculate what the highest and lowest opening prices were for the stock in this period.\n",
    "4. What was the largest change in any one day (based on High and Low price)?\n",
    "5. What was the largest change between any two days (based on Closing Price)?\n",
    "6. What was the average daily trading volume during this year?\n",
    "7. (Optional) What was the median trading volume during this year. (Note: you may need to implement your own function for calculating the median.)"
   ]
  },
  {
   "cell_type": "code",
   "execution_count": 6,
   "metadata": {},
   "outputs": [
    {
     "name": "stdout",
     "output_type": "stream",
     "text": [
      "https://data.nasdaq.com/api/v3/datasets/FSE/AFX_X/data.json?start_date=2017-01-01&end_date=2017-12-31&api_key=U5cvNQx-hcz3-GLx9W6W\n"
     ]
    }
   ],
   "source": [
    "# Q1 - Collect data from the Franfurt Stock Exchange, for the ticker AFX_X, for the whole year 2017 (keep in mind that the date format is YYYY-MM-DD).\n",
    "\n",
    "url_2017 = f\"https://data.nasdaq.com/api/v3/datasets/{database_code}/{dataset_code}/data.json?start_date=2017-01-01&end_date=2017-12-31&api_key={API_KEY}\"\n",
    "print(url_2017)\n",
    "\n",
    "r_2017 = requests.get(url_2017)"
   ]
  },
  {
   "cell_type": "code",
   "execution_count": 7,
   "metadata": {},
   "outputs": [
    {
     "name": "stdout",
     "output_type": "stream",
     "text": [
      "<class 'dict'>\n"
     ]
    }
   ],
   "source": [
    "# Q2 - Convert the returned JSON object into a Python dictionary.\n",
    "\n",
    "data_2017 = r_2017.json()\n",
    "print(type(data_2017))\n",
    "\n",
    "# pp(data_2017)"
   ]
  },
  {
   "cell_type": "code",
   "execution_count": 8,
   "metadata": {},
   "outputs": [
    {
     "name": "stdout",
     "output_type": "stream",
     "text": [
      "The highest opening price for AFX_X in 2017 was 53.11.\n",
      "The lowest opening price for AFX_X in 2017 was 34.0.\n"
     ]
    }
   ],
   "source": [
    "# Q3 - Calculate what the highest and lowest opening prices were for the stock in this period.\n",
    "\n",
    "opening_prices = [x[1] for x in data_2017['dataset_data']['data'] if x[1]]\n",
    "\n",
    "print(f\"The highest opening price for {dataset_code} in 2017 was {max(opening_prices)}.\")\n",
    "print(f\"The lowest opening price for {dataset_code} in 2017 was {min(opening_prices)}.\")"
   ]
  },
  {
   "cell_type": "code",
   "execution_count": 9,
   "metadata": {},
   "outputs": [
    {
     "name": "stdout",
     "output_type": "stream",
     "text": [
      "The largest day change for AFX_X in 2017 was 2.81.\n"
     ]
    }
   ],
   "source": [
    "# Q4 - What was the largest change in any one day (based on High and Low price)?\n",
    "\n",
    "high_low = [x[2] - x[3] for x in data_2017['dataset_data']['data'] if x[2] and x[3]]\n",
    "\n",
    "print(f\"The largest day change for {dataset_code} in 2017 was {round(max(high_low), 2)}.\")"
   ]
  },
  {
   "cell_type": "code",
   "execution_count": 10,
   "metadata": {},
   "outputs": [
    {
     "name": "stdout",
     "output_type": "stream",
     "text": [
      "The largest two-day change for AFX_X in 2017 was -2.56.\n"
     ]
    }
   ],
   "source": [
    "# Q5 - What was the largest change between any two days (based on Closing Price)?\n",
    "\n",
    "largest_day_change = 0\n",
    "\n",
    "for idx in range(len(data_2017['dataset_data']['data'])-1):\n",
    "    day_change = data_2017['dataset_data']['data'][idx][4] - data_2017['dataset_data']['data'][idx+1][4]\n",
    "    if (abs(day_change) > abs(largest_day_change)):\n",
    "        largest_day_change = day_change\n",
    "\n",
    "print(f\"The largest two-day change for {dataset_code} in 2017 was {round(largest_day_change, 2)}.\")"
   ]
  },
  {
   "cell_type": "code",
   "execution_count": 11,
   "metadata": {},
   "outputs": [
    {
     "name": "stdout",
     "output_type": "stream",
     "text": [
      "The average daily traded volume for AFX_X in 2017 was 89124.34.\n"
     ]
    }
   ],
   "source": [
    "# Q6 - What was the average daily trading volume during this year?\n",
    "\n",
    "daily_traded_volumes = [x[6] for x in data_2017['dataset_data']['data'] if x[6]]\n",
    "\n",
    "print(f\"The average daily traded volume for {dataset_code} in 2017 was {round(statistics.mean(daily_traded_volumes), 2)}.\"\n",
    "     )"
   ]
  },
  {
   "cell_type": "code",
   "execution_count": 12,
   "metadata": {},
   "outputs": [
    {
     "name": "stdout",
     "output_type": "stream",
     "text": [
      "Using the statistics module:\n",
      "Median: 76286.0\n",
      "Index: 32\n",
      "\n",
      "Custom calculation:\n",
      "Median: 76286.0\n",
      "Index: 32\n"
     ]
    }
   ],
   "source": [
    "# Q7 - (Optional) What was the median trading volume during this year. (Note: you may need to implement your own function for calculating the median.)\n",
    "\n",
    "print('Using the statistics module:')\n",
    "print('Median:', statistics.median(daily_traded_volumes)) # -> value is 76286.0\n",
    "print('Index:', daily_traded_volumes.index(statistics.median(daily_traded_volumes))) # -> index is 32\n",
    "print()\n",
    "\n",
    "# Verify manually\n",
    "daily_traded_volumes_sorted = sorted(daily_traded_volumes)\n",
    "\n",
    "remainder = len(daily_traded_volumes_sorted)%2\n",
    "idx = int(len(daily_traded_volumes_sorted) / 2)\n",
    "\n",
    "if (remainder == 0):\n",
    "    median_trading_volume = (daily_traded_volumes_sorted[idx-remainder] + daily_traded_volumes_sorted[idx]) / 2\n",
    "else:\n",
    "    median_trading_volume = daily_traded_volumes_sorted[idx]\n",
    "\n",
    "print('Custom calculation:')\n",
    "print('Median:', median_trading_volume)\n",
    "print('Index:', daily_traded_volumes.index(median_trading_volume))"
   ]
  },
  {
   "cell_type": "code",
   "execution_count": null,
   "metadata": {},
   "outputs": [],
   "source": []
  }
 ],
 "metadata": {
  "interpreter": {
   "hash": "4885f37acae9217c235118400878352aafa7b76e66df698a1f601374f86939a7"
  },
  "kernelspec": {
   "display_name": "Python 3 (ipykernel)",
   "language": "python",
   "name": "python3"
  },
  "language_info": {
   "codemirror_mode": {
    "name": "ipython",
    "version": 3
   },
   "file_extension": ".py",
   "mimetype": "text/x-python",
   "name": "python",
   "nbconvert_exporter": "python",
   "pygments_lexer": "ipython3",
   "version": "3.8.12"
  }
 },
 "nbformat": 4,
 "nbformat_minor": 4
}
